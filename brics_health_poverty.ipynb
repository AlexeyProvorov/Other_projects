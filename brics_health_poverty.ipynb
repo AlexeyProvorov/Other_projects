{
  "nbformat": 4,
  "nbformat_minor": 0,
  "metadata": {
    "kernelspec": {
      "language": "python",
      "display_name": "Python 3",
      "name": "python3"
    },
    "language_info": {
      "pygments_lexer": "ipython3",
      "nbconvert_exporter": "python",
      "version": "3.6.4",
      "file_extension": ".py",
      "codemirror_mode": {
        "name": "ipython",
        "version": 3
      },
      "name": "python",
      "mimetype": "text/x-python"
    },
    "colab": {
      "name": "brics-health-poverty.ipynb",
      "provenance": [],
      "include_colab_link": true
    }
  },
  "cells": [
    {
      "cell_type": "markdown",
      "metadata": {
        "id": "view-in-github",
        "colab_type": "text"
      },
      "source": [
        "<a href=\"https://colab.research.google.com/github/LeoProvorov/MyProjects/blob/master/brics_health_poverty.ipynb\" target=\"_parent\"><img src=\"https://colab.research.google.com/assets/colab-badge.svg\" alt=\"Open In Colab\"/></a>"
      ]
    },
    {
      "cell_type": "markdown",
      "metadata": {
        "id": "i8D1zMNYiy4h"
      },
      "source": [
        "![](https://www.cut.org.br/images/cache/systemuploadsnews272b64fdb778c3c6bdc-700x460xfit-b9c8c.jpeg)https://www.cut.org.br/noticias/brics-discute-o-futuro-do-trabalho-em-brasilia-272b"
      ]
    },
    {
      "cell_type": "code",
      "metadata": {
        "_uuid": "8f2839f25d086af736a60e9eeb907d3b93b6e0e5",
        "_cell_guid": "b1076dfc-b9ad-4769-8c92-a6c4dae69d19",
        "trusted": true,
        "_kg_hide-output": true,
        "id": "98xzXyWuiy4j"
      },
      "source": [
        "# This Python 3 environment comes with many helpful analytics libraries installed\n",
        "# It is defined by the kaggle/python Docker image: https://github.com/kaggle/docker-python\n",
        "# For example, here's several helpful packages to load\n",
        "\n",
        "import numpy as np # linear algebra\n",
        "import pandas as pd # data processing, CSV file I/O (e.g. pd.read_csv)\n",
        "import unicodedata\n",
        "import matplotlib.pyplot as plt\n",
        "import plotly.express as px\n",
        "import seaborn as sns\n",
        "plt.style.use('fivethirtyeight')\n",
        "\n",
        "# Input data files are available in the read-only \"../input/\" directory\n",
        "# For example, running this (by clicking run or pressing Shift+Enter) will list all files under the input directory\n",
        "\n",
        "import os\n",
        "for dirname, _, filenames in os.walk('/kaggle/input'):\n",
        "    for filename in filenames:\n",
        "        print(os.path.join(dirname, filename))\n",
        "\n",
        "# You can write up to 20GB to the current directory (/kaggle/working/) that gets preserved as output when you create a version using \"Save & Run All\" \n",
        "# You can also write temporary files to /kaggle/temp/, but they won't be saved outside of the current session"
      ],
      "execution_count": null,
      "outputs": []
    },
    {
      "cell_type": "code",
      "metadata": {
        "_uuid": "d629ff2d2480ee46fbb7e2d37f6b5fab8052498a",
        "_cell_guid": "79c7e3d0-c299-4dcb-8224-4455121ee9b0",
        "trusted": true,
        "_kg_hide-input": true,
        "id": "NLsgEodmiy4w"
      },
      "source": [
        "nRowsRead = 1000 # specify 'None' if want to read whole file\n",
        "df = pd.read_csv('../input/brics-world-bank-indicators/BRICS Development Indicators/HealthAndPoverty_Data.csv', delimiter=';', encoding = \"ISO-8859-1\", nrows = nRowsRead)\n",
        "df.dataframeName = 'HealthAndPoverty_Data.csv'\n",
        "nRow, nCol = df.shape\n",
        "print(f'There are {nRow} rows and {nCol} columns')\n",
        "df.head()"
      ],
      "execution_count": null,
      "outputs": []
    },
    {
      "cell_type": "code",
      "metadata": {
        "trusted": true,
        "_kg_hide-input": true,
        "id": "eTkuTjUDiy42"
      },
      "source": [
        "#Code by Md Redwan Karim Sony https://www.kaggle.com/redwankarimsony/space-missions-data-eda-temporal-analysis\n",
        "\n",
        "# Calculating\n",
        "percent_missing = df.isnull().sum() * 100 / len(df)\n",
        "missing_value_df = pd.DataFrame({'column': df.columns,\n",
        "                                 'percent': percent_missing})\n",
        "missing_value_df.sort_values('percent', inplace=True)\n",
        "missing_value_df.reset_index(drop=True, inplace=True)\n",
        "missing_value_df = missing_value_df[missing_value_df['percent']>0]\n",
        "\n",
        "# Plotting\n",
        "fig = px.bar(\n",
        "    missing_value_df, \n",
        "    x='percent', \n",
        "    y=\"column\", \n",
        "    orientation='h', \n",
        "    title='Columns with Missing Values', \n",
        "    height=200, \n",
        "    width=600\n",
        ")\n",
        "fig.show()"
      ],
      "execution_count": null,
      "outputs": []
    },
    {
      "cell_type": "markdown",
      "metadata": {
        "id": "DzfSKqc2iy47"
      },
      "source": [
        "#Code from Tanay Mehta https://www.kaggle.com/heyytanay/police-shooting-eda-interactive-map/comments"
      ]
    },
    {
      "cell_type": "code",
      "metadata": {
        "trusted": true,
        "id": "DRl7Lb42iy47"
      },
      "source": [
        "#Code from Tanay Mehta https://www.kaggle.com/heyytanay/police-shooting-eda-interactive-map/comments\n",
        "\n",
        "from colorama import Fore, Style\n",
        "\n",
        "def count(string: str, color=Fore.RED):\n",
        "    \"\"\"\n",
        "    Saves some work \n",
        "    \"\"\"\n",
        "    print(color+string+Style.RESET_ALL)"
      ],
      "execution_count": null,
      "outputs": []
    },
    {
      "cell_type": "code",
      "metadata": {
        "trusted": true,
        "id": "4Ud70Ot2iy5A"
      },
      "source": [
        "def statistics(dataframe, column):\n",
        "    count(f\"The Average value in {column} is: {dataframe[column].mean():.2f}\", Fore.RED)\n",
        "    count(f\"The Maximum value in {column} is: {dataframe[column].max()}\", Fore.BLUE)\n",
        "    count(f\"The Minimum value in {column} is: {dataframe[column].min()}\", Fore.YELLOW)\n",
        "    count(f\"The 25th Quantile of {column} is: {dataframe[column].quantile(0.25)}\", Fore.GREEN)\n",
        "    count(f\"The 50th Quantile of {column} is: {dataframe[column].quantile(0.50)}\", Fore.CYAN)\n",
        "    count(f\"The 75th Quantile of {column} is: {dataframe[column].quantile(0.75)}\", Fore.MAGENTA)"
      ],
      "execution_count": null,
      "outputs": []
    },
    {
      "cell_type": "code",
      "metadata": {
        "trusted": true,
        "_kg_hide-input": true,
        "id": "_yCGbspWiy5E"
      },
      "source": [
        "# Plot Year\n",
        "plt.style.use(\"classic\")\n",
        "sns.distplot(df['Year'], color='blue')\n",
        "plt.title(f\"Year [\\u03BC : {df['Year'].mean():.2f} conditions | \\u03C3 : {df['Year'].std():.2f} conditions]\")\n",
        "plt.xlabel(\"Year\")\n",
        "plt.ylabel(\"Count\")\n",
        "plt.show()"
      ],
      "execution_count": null,
      "outputs": []
    },
    {
      "cell_type": "code",
      "metadata": {
        "trusted": true,
        "_kg_hide-input": true,
        "id": "6AofH8wfiy5I"
      },
      "source": [
        "# Plot Value \n",
        "plt.style.use(\"classic\")\n",
        "sns.distplot(df['Value'], color='red')\n",
        "plt.title(f\" [\\u03BC : {df['Value'].mean():.2f} conditions | \\u03C3 : {df['Value'].std():.2f} conditions]\")\n",
        "plt.xlabel(\"Value\")\n",
        "plt.ylabel(\"Count\")\n",
        "plt.show()"
      ],
      "execution_count": null,
      "outputs": []
    },
    {
      "cell_type": "code",
      "metadata": {
        "trusted": true,
        "id": "4iH16pyWiy5N"
      },
      "source": [
        "bra = df[(df['CountryName']=='Brazil')].reset_index(drop=True)\n",
        "bra.head()"
      ],
      "execution_count": null,
      "outputs": []
    },
    {
      "cell_type": "code",
      "metadata": {
        "trusted": true,
        "id": "oezdfLR5iy5R"
      },
      "source": [
        "#Code by Taha07  https://www.kaggle.com/taha07/data-scientists-jobs-analysis-visualization/notebook\n",
        "\n",
        "color = plt.cm.summer(np.linspace(0,1,20))\n",
        "bra[\"SeriesName\"].value_counts().sort_values(ascending=False).head(20).plot.pie(y=\"Value\",colors=color,autopct=\"%0.1f%%\")\n",
        "plt.title(\"\")\n",
        "plt.axis(\"off\")\n",
        "plt.show()"
      ],
      "execution_count": null,
      "outputs": []
    },
    {
      "cell_type": "code",
      "metadata": {
        "trusted": true,
        "id": "ov8UxiQgiy5W"
      },
      "source": [
        "fig = px.pie(bra,\n",
        "             values=\"Value\",\n",
        "             names=\"SeriesName\",\n",
        "             template=\"seaborn\")\n",
        "fig.update_traces(rotation=90, pull=0.05, textinfo=\"percent+label\")\n",
        "fig.show()"
      ],
      "execution_count": null,
      "outputs": []
    },
    {
      "cell_type": "code",
      "metadata": {
        "trusted": true,
        "_kg_hide-input": true,
        "id": "SRQSM5PCiy5b"
      },
      "source": [
        "# Count Plot\n",
        "plt.style.use(\"classic\")\n",
        "plt.figure(figsize=(6, 4))\n",
        "sns.countplot(bra['Year'], palette='summer', **{'hatch':'/','linewidth':3})\n",
        "plt.xlabel(\"Year\")\n",
        "plt.ylabel(\"Count\")\n",
        "plt.title(\"Brazilian Health & Poverty Indicators\")\n",
        "plt.xticks(rotation=45, fontsize=8)\n",
        "plt.show()"
      ],
      "execution_count": null,
      "outputs": []
    },
    {
      "cell_type": "code",
      "metadata": {
        "trusted": true,
        "_kg_hide-input": true,
        "id": "hETaU7Rviy5g"
      },
      "source": [
        "#word cloud\n",
        "from wordcloud import WordCloud, ImageColorGenerator\n",
        "text = \" \".join(str(each) for each in bra.SeriesName)\n",
        "# Create and generate a word cloud image:\n",
        "wordcloud = WordCloud(max_words=200,colormap='summer', background_color=\"green\").generate(text)\n",
        "plt.figure(figsize=(10,6))\n",
        "plt.figure(figsize=(15,10))\n",
        "# Display the generated image:\n",
        "plt.imshow(wordcloud, interpolation='Bilinear')\n",
        "plt.axis(\"off\")\n",
        "plt.figure(1,figsize=(12, 12))\n",
        "plt.show()"
      ],
      "execution_count": null,
      "outputs": []
    },
    {
      "cell_type": "markdown",
      "metadata": {
        "id": "PlOPNdEOiy5j"
      },
      "source": [
        "#To avoid clumsy plotting, select a few columns."
      ]
    },
    {
      "cell_type": "code",
      "metadata": {
        "trusted": true,
        "_kg_hide-input": true,
        "id": "2lV477OAiy5k"
      },
      "source": [
        "ax = sns.countplot(x = 'SeriesName',data=df,order=['Life expectancy at birth, male (years)', 'Completeness of birth registration (%), total', 'Population ages 65 and above, total', 'Children (0-14) living with HIV'])\n",
        "for p in ax.patches:\n",
        "        ax.annotate(format(p.get_height()), (p.get_x()+0.2, p.get_height()))\n",
        "plt.xticks(rotation=45)"
      ],
      "execution_count": null,
      "outputs": []
    },
    {
      "cell_type": "code",
      "metadata": {
        "trusted": true,
        "_kg_hide-input": true,
        "id": "MPWftAbbiy5n"
      },
      "source": [
        "px.bar(df, x = 'Value', y = 'CountryName', color = 'CountryCode',orientation='h' , title='BRICS Health & Poverty Indicators ',  height = 500 )"
      ],
      "execution_count": null,
      "outputs": []
    },
    {
      "cell_type": "markdown",
      "metadata": {
        "id": "OxHbyoG4iy5s"
      },
      "source": [
        "#Codes by Xhlulu   https://www.kaggle.com/xhlulu/android-or-ios-data-exploration/comments"
      ]
    },
    {
      "cell_type": "code",
      "metadata": {
        "trusted": true,
        "id": "eN4VREBciy5t"
      },
      "source": [
        "px.pie(df, 'CountryName')"
      ],
      "execution_count": null,
      "outputs": []
    },
    {
      "cell_type": "code",
      "metadata": {
        "trusted": true,
        "id": "Fm7kSoHIiy5y"
      },
      "source": [
        "px.histogram(df, x='Value', range_x=[-5, 50], color='CountryName')"
      ],
      "execution_count": null,
      "outputs": []
    },
    {
      "cell_type": "code",
      "metadata": {
        "trusted": true,
        "id": "2AjFPTQPiy54"
      },
      "source": [
        "#Code by Xhlulu   https://www.kaggle.com/xhlulu/android-or-ios-data-exploration/comments\n",
        "\n",
        "px.scatter(df, x='CountryName', y='Value', color='CountryCode', log_y=True, marginal_y='box', range_x=[-20, 200])"
      ],
      "execution_count": null,
      "outputs": []
    },
    {
      "cell_type": "code",
      "metadata": {
        "trusted": true,
        "_kg_hide-input": true,
        "id": "OyXmxJKoiy57"
      },
      "source": [
        "#Code by Olga Belitskaya https://www.kaggle.com/olgabelitskaya/sequential-data/comments\n",
        "from IPython.display import display,HTML\n",
        "c1,c2,f1,f2,fs1,fs2=\\\n",
        "'#2B3A67','#42a7f5','Akronim','Smokum',30,15\n",
        "def dhtml(string,fontcolor=c1,font=f1,fontsize=fs1):\n",
        "    display(HTML(\"\"\"<style>\n",
        "    @import 'https://fonts.googleapis.com/css?family=\"\"\"\\\n",
        "    +font+\"\"\"&effect=3d-float';</style>\n",
        "    <h1 class='font-effect-3d-float' style='font-family:\"\"\"+\\\n",
        "    font+\"\"\"; color:\"\"\"+fontcolor+\"\"\"; font-size:\"\"\"+\\\n",
        "    str(fontsize)+\"\"\"px;'>%s</h1>\"\"\"%string))\n",
        "    \n",
        "    \n",
        "dhtml('Marília Prata, @mpwolke was Here.' )"
      ],
      "execution_count": null,
      "outputs": []
    }
  ]
}