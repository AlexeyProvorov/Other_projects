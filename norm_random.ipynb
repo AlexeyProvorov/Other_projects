{
  "nbformat": 4,
  "nbformat_minor": 0,
  "metadata": {
    "colab": {
      "name": "Добро пожаловать в Colaboratory!",
      "provenance": [],
      "collapsed_sections": [],
      "include_colab_link": true
    },
    "kernelspec": {
      "display_name": "Python 3",
      "name": "python3"
    }
  },
  "cells": [
    {
      "cell_type": "markdown",
      "metadata": {
        "id": "view-in-github",
        "colab_type": "text"
      },
      "source": [
        "<a href=\"https://colab.research.google.com/github/LeoProvorov/MyProjects/blob/master/norm_random.ipynb\" target=\"_parent\"><img src=\"https://colab.research.google.com/assets/colab-badge.svg\" alt=\"Open In Colab\"/></a>"
      ]
    },
    {
      "cell_type": "code",
      "metadata": {
        "id": "XhybGTlgl6Ou"
      },
      "source": [
        "import numpy as np \n",
        "import matplotlib.pyplot as plt\n",
        "import scipy.stats as sts\n",
        "%matplotlib inline"
      ],
      "execution_count": 2,
      "outputs": []
    },
    {
      "cell_type": "code",
      "metadata": {
        "id": "Or-J27vXmpYk",
        "outputId": "6442a7f0-5d5c-4bac-995e-c88e01950471",
        "colab": {
          "base_uri": "https://localhost:8080/"
        }
      },
      "source": [
        "#init\n",
        "mu = 2.0\n",
        "sigma = 1.0\n",
        "# зададим нормальноую случю  величину и сгенеируем 10 значений\n",
        "norm_rv = sts.norm(loc = mu, scale = sigma)\n",
        "norm_rv.rvs(size = 10)\n"
      ],
      "execution_count": 16,
      "outputs": [
        {
          "output_type": "execute_result",
          "data": {
            "text/plain": [
              "array([2.19235317, 2.26272548, 1.58993259, 2.40797633, 2.85138976,\n",
              "       2.71960962, 3.79289639, 0.62026119, 2.46784921, 2.09244091])"
            ]
          },
          "metadata": {
            "tags": []
          },
          "execution_count": 16
        }
      ]
    },
    {
      "cell_type": "code",
      "metadata": {
        "id": "E7xxAjqEnSIA",
        "outputId": "05e4041b-b87b-40bd-932b-113b0d22ac69",
        "colab": {
          "base_uri": "https://localhost:8080/",
          "height": 296
        }
      },
      "source": [
        "#Получаем массив из 100 аргументтов x из отрезка [-4,4] и значений ф-и распределения \n",
        "x = np.linspace(-4,4,100)\n",
        "cdf = norm_rv.cdf(x)# делаем вектор значений\n",
        "\n",
        "#graphic\n",
        "plt.plot(x, cdf)\n",
        "plt.ylabel('$F(x)$')\n",
        "plt.grid()\n",
        "plt.xlabel('$x$')\n"
      ],
      "execution_count": 17,
      "outputs": [
        {
          "output_type": "execute_result",
          "data": {
            "text/plain": [
              "Text(0.5, 0, '$x$')"
            ]
          },
          "metadata": {
            "tags": []
          },
          "execution_count": 17
        },
        {
          "output_type": "display_data",
          "data": {
            "image/png": "[encoded data removed]",
            "text/plain": [
              "<Figure size 432x288 with 1 Axes>"
            ]
          },
          "metadata": {
            "tags": [],
            "needs_background": "light"
          }
        }
      ]
    },
    {
      "cell_type": "code",
      "metadata": {
        "id": "jJBwZnPbsM2x",
        "outputId": "c473f1c9-b4cc-4067-c006-59f6bef4236f",
        "colab": {
          "base_uri": "https://localhost:8080/",
          "height": 296
        }
      },
      "source": [
        "#Получаем массив из 100 аргументтов x из отрезка [-4,4] и значений ф-и распределения \n",
        "x = np.linspace(-4,4,100)\n",
        "pdf = norm_rv.pdf(x)# делаем вектор значений\n",
        "\n",
        "#graphic\n",
        "plt.plot(x, pdf)\n",
        "plt.ylabel('$F(x)$')\n",
        "plt.grid()\n",
        "plt.xlabel('$x$')"
      ],
      "execution_count": 19,
      "outputs": [
        {
          "output_type": "execute_result",
          "data": {
            "text/plain": [
              "Text(0.5, 0, '$x$')"
            ]
          },
          "metadata": {
            "tags": []
          },
          "execution_count": 19
        },
        {
          "output_type": "display_data",
          "data": {
            "image/png": "[encoded data removed]",
            "text/plain": [
              "<Figure size 432x288 with 1 Axes>"
            ]
          },
          "metadata": {
            "tags": [],
            "needs_background": "light"
          }
        }
      ]
    }
  ]
}