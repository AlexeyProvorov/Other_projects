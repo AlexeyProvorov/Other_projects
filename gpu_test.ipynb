{
  "nbformat": 4,
  "nbformat_minor": 0,
  "metadata": {
    "colab": {
      "provenance": [],
      "gpuType": "T4",
      "authorship_tag": "ABX9TyNuNBoevDcRD+kd8EN1UOt4",
      "include_colab_link": true
    },
    "kernelspec": {
      "name": "python3",
      "display_name": "Python 3"
    },
    "language_info": {
      "name": "python"
    },
    "accelerator": "GPU"
  },
  "cells": [
    {
      "cell_type": "markdown",
      "metadata": {
        "id": "view-in-github",
        "colab_type": "text"
      },
      "source": [
        "<a href=\"https://colab.research.google.com/github/AlexeyProvorov/Other_projects/blob/master/gpu_test.ipynb\" target=\"_parent\"><img src=\"https://colab.research.google.com/assets/colab-badge.svg\" alt=\"Open In Colab\"/></a>"
      ]
    },
    {
      "cell_type": "code",
      "execution_count": 1,
      "metadata": {
        "colab": {
          "base_uri": "https://localhost:8080/"
        },
        "id": "WjhA_1BpS-h2",
        "outputId": "2608a763-3f28-46e9-cdf0-7828c2caad50"
      },
      "outputs": [
        {
          "output_type": "stream",
          "name": "stdout",
          "text": [
            "Num GPUs Available:  1\n",
            "Using device:  PhysicalDevice(name='/physical_device:GPU:0', device_type='GPU')\n",
            "\n",
            "Performing matrix multiplication on GPU...\n",
            "Average matrix multiplication time on GPU: 0.0261 seconds\n",
            "\n",
            "Performing matrix multiplication on CPU...\n",
            "Average matrix multiplication time on CPU: 30.6453 seconds\n"
          ]
        }
      ],
      "source": [
        "import tensorflow as tf\n",
        "import time\n",
        "\n",
        "# Проверка наличия GPU\n",
        "physical_devices = tf.config.list_physical_devices('GPU')\n",
        "print(\"Num GPUs Available: \", len(physical_devices))\n",
        "if len(physical_devices) > 0:\n",
        "    print(\"Using device: \", physical_devices[0])\n",
        "\n",
        "# Функция для создания больших матриц\n",
        "def create_large_matrices(size):\n",
        "    a = tf.random.uniform([size, size], minval=0, maxval=1)\n",
        "    b = tf.random.uniform([size, size], minval=0, maxval=1)\n",
        "    return a, b\n",
        "\n",
        "# Функция для умножения матриц и замера времени\n",
        "def matrix_multiplication_on_device(device_name, size=10000, repeat=10):\n",
        "    with tf.device(device_name):\n",
        "        times = []\n",
        "        for _ in range(repeat):\n",
        "            a, b = create_large_matrices(size)\n",
        "            start_time = time.time()\n",
        "            c = tf.matmul(a, b)\n",
        "            end_time = time.time()\n",
        "            times.append(end_time - start_time)\n",
        "            tf.keras.backend.clear_session()  # Очищаем сессию, чтобы освободить память\n",
        "        avg_time = sum(times) / repeat\n",
        "        return avg_time\n",
        "\n",
        "# Включаем логирование устройства\n",
        "tf.debugging.set_log_device_placement(False)\n",
        "\n",
        "# Умножение матриц на GPU\n",
        "if len(physical_devices) > 0:\n",
        "    print(\"\\nPerforming matrix multiplication on GPU...\")\n",
        "    gpu_time = matrix_multiplication_on_device('/GPU:0')\n",
        "    print(f\"Average matrix multiplication time on GPU: {gpu_time:.4f} seconds\")\n",
        "\n",
        "# Умножение матриц на CPU\n",
        "print(\"\\nPerforming matrix multiplication on CPU...\")\n",
        "cpu_time = matrix_multiplication_on_device('/CPU:0')\n",
        "print(f\"Average matrix multiplication time on CPU: {cpu_time:.4f} seconds\")\n"
      ]
    },
    {
      "cell_type": "code",
      "source": [],
      "metadata": {
        "id": "g-pn57gnS_Lp"
      },
      "execution_count": null,
      "outputs": []
    }
  ]
}