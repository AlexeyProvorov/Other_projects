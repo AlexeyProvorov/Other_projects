{
  "nbformat": 4,
  "nbformat_minor": 0,
  "metadata": {
    "colab": {
      "name": "Untitled0.ipynb",
      "provenance": [],
      "authorship_tag": "ABX9TyOw262C1EM5EuBZqKiqQHxX",
      "include_colab_link": true
    },
    "kernelspec": {
      "name": "python3",
      "display_name": "Python 3"
    }
  },
  "cells": [
    {
      "cell_type": "markdown",
      "metadata": {
        "id": "view-in-github",
        "colab_type": "text"
      },
      "source": [
        "<a href=\"https://colab.research.google.com/github/LeoProvorov/MyProjects/blob/master/PCA.ipynb\" target=\"_parent\"><img src=\"https://colab.research.google.com/assets/colab-badge.svg\" alt=\"Open In Colab\"/></a>"
      ]
    },
    {
      "cell_type": "code",
      "metadata": {
        "id": "m_K0h4i_uVZx"
      },
      "source": [
        "import pandas as pd\r\n",
        "import numpy as np\r\n",
        "import random as rd\r\n",
        "from sklearn.decomposition import PCA\r\n",
        "from sklearn import preprocessing\r\n",
        "import matplotlib.pyplot as plt\r\n",
        "\r\n"
      ],
      "execution_count": 18,
      "outputs": []
    },
    {
      "cell_type": "code",
      "metadata": {
        "id": "Cliz1O76RtDs"
      },
      "source": [
        "genes = ['gene' + str(i) for i in range(1,101)]\r\n",
        "\r\n",
        "wt = ['wt' + str(i) for i in range(1,6)]\r\n",
        "ko = ['ko' + str(i) for i in range(1,6)]\r\n"
      ],
      "execution_count": 3,
      "outputs": []
    },
    {
      "cell_type": "code",
      "metadata": {
        "id": "ylHw09O9SObd"
      },
      "source": [
        "data = pd.DataFrame(columns=[*wt, *ko], index=genes)"
      ],
      "execution_count": 7,
      "outputs": []
    },
    {
      "cell_type": "code",
      "metadata": {
        "id": "_oQrj0O6SfkT"
      },
      "source": [
        "for gene in data.index:\r\n",
        "    data.loc[gene, 'wt1':'wt5'] = np.random.poisson(lam=rd.randrange(10,1000), size=5)\r\n",
        "    data.loc[gene, 'ko1':'ko5'] = np.random.poisson(lam=rd.randrange(10,1000), size=5)\r\n"
      ],
      "execution_count": 10,
      "outputs": []
    },
    {
      "cell_type": "code",
      "metadata": {
        "id": "aIrwiAaBTPcK"
      },
      "source": [
        "scalled_data = preprocessing.scale(data.T)\r\n"
      ],
      "execution_count": 12,
      "outputs": []
    },
    {
      "cell_type": "code",
      "metadata": {
        "id": "R5Z79pLJT2aH"
      },
      "source": [
        "pca = PCA()\r\n",
        "pca.fit(scalled_data)\r\n",
        "pca_data = pca.transform(scalled_data)"
      ],
      "execution_count": 14,
      "outputs": []
    },
    {
      "cell_type": "code",
      "metadata": {
        "colab": {
          "base_uri": "https://localhost:8080/",
          "height": 295
        },
        "id": "n-wcoC7jUtH4",
        "outputId": "e8746832-5e7e-4a43-9e02-091deca41e0c"
      },
      "source": [
        "per_var = np.round(pca.explained_variance_ratio_ * 100,\r\n",
        "                   decimals=1)\r\n",
        "labels = ['PC' + str(x) for x in range(1, len(per_var)+1)]\r\n",
        "\r\n",
        "plt.bar(x=range(1,len(per_var)+1), height=per_var, \r\n",
        "        tick_label=labels)\r\n",
        "plt.ylabel('Percentage of Explained Variance')\r\n",
        "plt.xlabel('Principal Component')\r\n",
        "plt.title('Scree Plot')\r\n",
        "\r\n",
        "plt.show()"
      ],
      "execution_count": 19,
      "outputs": [
        {
          "output_type": "display_data",
          "data": {
            "image/png": "[encoded data removed]",
            "text/plain": [
              "<Figure size 432x288 with 1 Axes>"
            ]
          },
          "metadata": {
            "tags": [],
            "needs_background": "light"
          }
        }
      ]
    },
    {
      "cell_type": "code",
      "metadata": {
        "id": "blr7TgOmV--a"
      },
      "source": [
        ""
      ],
      "execution_count": null,
      "outputs": []
    }
  ]
}