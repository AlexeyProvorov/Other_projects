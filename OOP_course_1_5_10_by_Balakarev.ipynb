{
  "nbformat": 4,
  "nbformat_minor": 0,
  "metadata": {
    "colab": {
      "provenance": [],
      "authorship_tag": "ABX9TyOk3IvcaIEC7GgILpWG/z+i",
      "include_colab_link": true
    },
    "kernelspec": {
      "name": "python3",
      "display_name": "Python 3"
    },
    "language_info": {
      "name": "python"
    }
  },
  "cells": [
    {
      "cell_type": "markdown",
      "metadata": {
        "id": "view-in-github",
        "colab_type": "text"
      },
      "source": [
        "<a href=\"https://colab.research.google.com/github/AlexeyProvorov/Other_projects/blob/master/OOP_course_1_5_10_by_Balakarev.ipynb\" target=\"_parent\"><img src=\"https://colab.research.google.com/assets/colab-badge.svg\" alt=\"Open In Colab\"/></a>"
      ]
    },
    {
      "cell_type": "code",
      "execution_count": null,
      "metadata": {
        "id": "UyXDKCeCHsQw"
      },
      "outputs": [],
      "source": [
        "# здесь пишется программа\n",
        "from random import randint\n",
        "\n",
        "class Cell:\n",
        "    def __init__(self, around_mines=0, mine=True):\n",
        "        self.around_mines = around_mines\n",
        "        self.mine = mine\n",
        "        self.fl_open = False\n",
        "        \n",
        "class GamePole():\n",
        "    def __init__(self,N, M ):\n",
        "        self._n = N\n",
        "        self._m = M\n",
        "        self.pole = [[Cell() for n in range(self._n)] for n in range(self._n)]\n",
        "        self.init()\n",
        "    def init(self): \n",
        "        m = 0\n",
        "        while m < self._m:\n",
        "            i = randint(0, self._n - 1)\n",
        "            j = randint(0, self._n - 1)\n",
        "            if self.pole[i][j].mine:\n",
        "                continue\n",
        "            self.pole[i][j].mine = True\n",
        "            m += 1\n",
        "        indx = (-1, -1), (-1, 0), (-1, 1), (0, -1), (0, 1), (1,-1), (1, 0), (1, 1)\n",
        "        for x in range(self._n):\n",
        "            for y in range(self._n):\n",
        "                if not self.pole[x][y].mine:\n",
        "                    mines = sum((self.pole[x+i][y+j].mine for i, j in indx if 0 <= x+i < self._n and 0 <= y+j < self._n))\n",
        "                    self.pole[x][y].around_mines = mines\n",
        "    def show(self):\n",
        "        for row in self.pole:\n",
        "            print(*map(lambda x : '#' if not x.fl_open else x.around_mines if not x.mine else \"*\", row))\n",
        "\n",
        "\n",
        "\n",
        "pole_game = GamePole(10, 2)\n",
        "# pole_game.show()"
      ]
    },
    {
      "cell_type": "code",
      "source": [
        "pole_game.show()"
      ],
      "metadata": {
        "id": "UNeRhI1hHuWr"
      },
      "execution_count": null,
      "outputs": []
    },
    {
      "cell_type": "code",
      "source": [],
      "metadata": {
        "id": "h5Xy-ZUYH-6v"
      },
      "execution_count": null,
      "outputs": []
    }
  ]
}