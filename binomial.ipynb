{
  "nbformat": 4,
  "nbformat_minor": 0,
  "metadata": {
    "colab": {
      "name": "Добро пожаловать в Colaboratory!",
      "provenance": [],
      "collapsed_sections": [],
      "include_colab_link": true
    },
    "kernelspec": {
      "display_name": "Python 3",
      "name": "python3"
    }
  },
  "cells": [
    {
      "cell_type": "markdown",
      "metadata": {
        "id": "view-in-github",
        "colab_type": "text"
      },
      "source": [
        "<a href=\"https://colab.research.google.com/github/LeoProvorov/MyProjects/blob/master/binomial.ipynb\" target=\"_parent\"><img src=\"https://colab.research.google.com/assets/colab-badge.svg\" alt=\"Open In Colab\"/></a>"
      ]
    },
    {
      "cell_type": "code",
      "metadata": {
        "id": "XhybGTlgl6Ou"
      },
      "source": [
        "import numpy as np \n",
        "import matplotlib.pyplot as plt\n",
        "import scipy.stats as sts\n",
        "%matplotlib inline"
      ],
      "execution_count": 2,
      "outputs": []
    },
    {
      "cell_type": "code",
      "metadata": {
        "id": "Or-J27vXmpYk",
        "outputId": "782144b7-44ad-49ad-f975-356ee91f56b9",
        "colab": {
          "base_uri": "https://localhost:8080/"
        }
      },
      "source": [
        "binomial_rv = sts.binom(20, 0.7)\n",
        "binomial_rv.rvs(size = 10)\n"
      ],
      "execution_count": 22,
      "outputs": [
        {
          "output_type": "execute_result",
          "data": {
            "text/plain": [
              "array([14, 13, 19, 15, 14, 15, 14, 13, 11, 13])"
            ]
          },
          "metadata": {
            "tags": []
          },
          "execution_count": 22
        }
      ]
    },
    {
      "cell_type": "code",
      "metadata": {
        "id": "E7xxAjqEnSIA",
        "outputId": "d57cf7e2-57c6-4bf8-9619-ab90b2aa1059",
        "colab": {
          "base_uri": "https://localhost:8080/",
          "height": 296
        }
      },
      "source": [
        "x = np.linspace(0,20,21)\n",
        "cdf = binomial_rv.cdf(x)#\n",
        "#graphic\n",
        "plt.step(x, cdf)\n",
        "plt.ylabel('$F(x)$')\n",
        "plt.grid() \n",
        "plt.xlabel('$x$')\n"
      ],
      "execution_count": 23,
      "outputs": [
        {
          "output_type": "execute_result",
          "data": {
            "text/plain": [
              "Text(0.5, 0, '$x$')"
            ]
          },
          "metadata": {
            "tags": []
          },
          "execution_count": 23
        },
        {
          "output_type": "display_data",
          "data": {
            "image/png": "[encoded data removed]",
            "text/plain": [
              "<Figure size 432x288 with 1 Axes>"
            ]
          },
          "metadata": {
            "tags": [],
            "needs_background": "light"
          }
        }
      ]
    },
    {
      "cell_type": "code",
      "metadata": {
        "id": "jJBwZnPbsM2x",
        "outputId": "cb0fdfce-8278-43c6-ac4a-19280a619c2d",
        "colab": {
          "base_uri": "https://localhost:8080/",
          "height": 299
        }
      },
      "source": [
        "x = np.linspace(0,20,21)\n",
        "pmf = binomial_rv.pmf(x)# делаем вектор значений\n",
        "\n",
        "#graphic\n",
        "plt.plot(x, pmf)\n",
        "plt.ylabel('$F(x)$')\n",
        "plt.grid()\n",
        "plt.xlabel('$x$')"
      ],
      "execution_count": 26,
      "outputs": [
        {
          "output_type": "execute_result",
          "data": {
            "text/plain": [
              "Text(0.5, 0, '$x$')"
            ]
          },
          "metadata": {
            "tags": []
          },
          "execution_count": 26
        },
        {
          "output_type": "display_data",
          "data": {
            "image/png": "[encoded data removed]",
            "text/plain": [
              "<Figure size 432x288 with 1 Axes>"
            ]
          },
          "metadata": {
            "tags": [],
            "needs_background": "light"
          }
        }
      ]
    }
  ]
}